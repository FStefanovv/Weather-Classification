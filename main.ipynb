{
 "cells": [
  {
   "cell_type": "code",
   "execution_count": 1,
   "metadata": {},
   "outputs": [],
   "source": [
    "import pandas as pd\n",
    "\n",
    "import warnings\n",
    "warnings.filterwarnings('ignore')"
   ]
  },
  {
   "cell_type": "code",
   "execution_count": 2,
   "metadata": {},
   "outputs": [
    {
     "data": {
      "text/html": [
       "<div>\n",
       "<style scoped>\n",
       "    .dataframe tbody tr th:only-of-type {\n",
       "        vertical-align: middle;\n",
       "    }\n",
       "\n",
       "    .dataframe tbody tr th {\n",
       "        vertical-align: top;\n",
       "    }\n",
       "\n",
       "    .dataframe thead th {\n",
       "        text-align: right;\n",
       "    }\n",
       "</style>\n",
       "<table border=\"1\" class=\"dataframe\">\n",
       "  <thead>\n",
       "    <tr style=\"text-align: right;\">\n",
       "      <th></th>\n",
       "      <th>Temperature</th>\n",
       "      <th>Humidity</th>\n",
       "      <th>Wind Speed</th>\n",
       "      <th>Precipitation (%)</th>\n",
       "      <th>Cloud Cover</th>\n",
       "      <th>Atmospheric Pressure</th>\n",
       "      <th>UV Index</th>\n",
       "      <th>Season</th>\n",
       "      <th>Visibility (km)</th>\n",
       "      <th>Location</th>\n",
       "      <th>Weather Type</th>\n",
       "    </tr>\n",
       "  </thead>\n",
       "  <tbody>\n",
       "    <tr>\n",
       "      <th>0</th>\n",
       "      <td>14.0</td>\n",
       "      <td>73</td>\n",
       "      <td>9.5</td>\n",
       "      <td>82.0</td>\n",
       "      <td>partly cloudy</td>\n",
       "      <td>1010.82</td>\n",
       "      <td>2</td>\n",
       "      <td>Winter</td>\n",
       "      <td>3.5</td>\n",
       "      <td>inland</td>\n",
       "      <td>Rainy</td>\n",
       "    </tr>\n",
       "    <tr>\n",
       "      <th>1</th>\n",
       "      <td>39.0</td>\n",
       "      <td>96</td>\n",
       "      <td>8.5</td>\n",
       "      <td>71.0</td>\n",
       "      <td>partly cloudy</td>\n",
       "      <td>1011.43</td>\n",
       "      <td>7</td>\n",
       "      <td>Spring</td>\n",
       "      <td>10.0</td>\n",
       "      <td>inland</td>\n",
       "      <td>Cloudy</td>\n",
       "    </tr>\n",
       "    <tr>\n",
       "      <th>2</th>\n",
       "      <td>30.0</td>\n",
       "      <td>64</td>\n",
       "      <td>7.0</td>\n",
       "      <td>16.0</td>\n",
       "      <td>clear</td>\n",
       "      <td>1018.72</td>\n",
       "      <td>5</td>\n",
       "      <td>Spring</td>\n",
       "      <td>5.5</td>\n",
       "      <td>mountain</td>\n",
       "      <td>Sunny</td>\n",
       "    </tr>\n",
       "    <tr>\n",
       "      <th>3</th>\n",
       "      <td>38.0</td>\n",
       "      <td>83</td>\n",
       "      <td>1.5</td>\n",
       "      <td>82.0</td>\n",
       "      <td>clear</td>\n",
       "      <td>1026.25</td>\n",
       "      <td>7</td>\n",
       "      <td>Spring</td>\n",
       "      <td>1.0</td>\n",
       "      <td>coastal</td>\n",
       "      <td>Sunny</td>\n",
       "    </tr>\n",
       "    <tr>\n",
       "      <th>4</th>\n",
       "      <td>27.0</td>\n",
       "      <td>74</td>\n",
       "      <td>17.0</td>\n",
       "      <td>66.0</td>\n",
       "      <td>overcast</td>\n",
       "      <td>990.67</td>\n",
       "      <td>1</td>\n",
       "      <td>Winter</td>\n",
       "      <td>2.5</td>\n",
       "      <td>mountain</td>\n",
       "      <td>Rainy</td>\n",
       "    </tr>\n",
       "  </tbody>\n",
       "</table>\n",
       "</div>"
      ],
      "text/plain": [
       "   Temperature  Humidity  Wind Speed  Precipitation (%)    Cloud Cover  \\\n",
       "0         14.0        73         9.5               82.0  partly cloudy   \n",
       "1         39.0        96         8.5               71.0  partly cloudy   \n",
       "2         30.0        64         7.0               16.0          clear   \n",
       "3         38.0        83         1.5               82.0          clear   \n",
       "4         27.0        74        17.0               66.0       overcast   \n",
       "\n",
       "   Atmospheric Pressure  UV Index  Season  Visibility (km)  Location  \\\n",
       "0               1010.82         2  Winter              3.5    inland   \n",
       "1               1011.43         7  Spring             10.0    inland   \n",
       "2               1018.72         5  Spring              5.5  mountain   \n",
       "3               1026.25         7  Spring              1.0   coastal   \n",
       "4                990.67         1  Winter              2.5  mountain   \n",
       "\n",
       "  Weather Type  \n",
       "0        Rainy  \n",
       "1       Cloudy  \n",
       "2        Sunny  \n",
       "3        Sunny  \n",
       "4        Rainy  "
      ]
     },
     "execution_count": 2,
     "metadata": {},
     "output_type": "execute_result"
    }
   ],
   "source": [
    "data = pd.read_csv('weather_classification_data.csv')\n",
    "data.head()"
   ]
  },
  {
   "cell_type": "code",
   "execution_count": 3,
   "metadata": {},
   "outputs": [
    {
     "data": {
      "text/plain": [
       "Index(['Temperature', 'Humidity', 'Wind_Speed', 'Precipitation', 'Cloud_Cover',\n",
       "       'Atmospheric_Pressure', 'UV_Index', 'Season', 'Visibility', 'Location',\n",
       "       'Weather_Type'],\n",
       "      dtype='object')"
      ]
     },
     "execution_count": 3,
     "metadata": {},
     "output_type": "execute_result"
    }
   ],
   "source": [
    "data.rename(columns={'Precipitation (%)':'Precipitation', 'Visibility (km)':'Visibility'}, inplace=True)\n",
    "for col in data.columns:\n",
    "    data.rename(columns={col: col.replace(' ', '_')}, inplace=True)\n",
    "data.columns"
   ]
  },
  {
   "cell_type": "code",
   "execution_count": 45,
   "metadata": {},
   "outputs": [],
   "source": [
    "from sklearn.model_selection import train_test_split\n",
    "\n",
    "X, y = data.iloc[:, :-1], data.iloc[:, -1]\n",
    "\n",
    "X_train, X_test, y_train, y_test = train_test_split(X, y, test_size=0.2, random_state=42, stratify=y)"
   ]
  },
  {
   "cell_type": "code",
   "execution_count": 53,
   "metadata": {},
   "outputs": [
    {
     "data": {
      "text/html": [
       "<div>\n",
       "<style scoped>\n",
       "    .dataframe tbody tr th:only-of-type {\n",
       "        vertical-align: middle;\n",
       "    }\n",
       "\n",
       "    .dataframe tbody tr th {\n",
       "        vertical-align: top;\n",
       "    }\n",
       "\n",
       "    .dataframe thead th {\n",
       "        text-align: right;\n",
       "    }\n",
       "</style>\n",
       "<table border=\"1\" class=\"dataframe\">\n",
       "  <thead>\n",
       "    <tr style=\"text-align: right;\">\n",
       "      <th></th>\n",
       "      <th>Temperature</th>\n",
       "      <th>Humidity</th>\n",
       "      <th>Wind_Speed</th>\n",
       "      <th>Precipitation</th>\n",
       "      <th>Cloud_Cover</th>\n",
       "      <th>Atmospheric_Pressure</th>\n",
       "      <th>UV_Index</th>\n",
       "      <th>Visibility</th>\n",
       "      <th>Season_Autumn</th>\n",
       "      <th>Season_Spring</th>\n",
       "      <th>Season_Summer</th>\n",
       "      <th>Season_Winter</th>\n",
       "      <th>Location_coastal</th>\n",
       "      <th>Location_inland</th>\n",
       "      <th>Location_mountain</th>\n",
       "    </tr>\n",
       "  </thead>\n",
       "  <tbody>\n",
       "    <tr>\n",
       "      <th>13143</th>\n",
       "      <td>-7.0</td>\n",
       "      <td>70</td>\n",
       "      <td>1.5</td>\n",
       "      <td>72.0</td>\n",
       "      <td>overcast</td>\n",
       "      <td>989.30</td>\n",
       "      <td>1</td>\n",
       "      <td>2.0</td>\n",
       "      <td>0.0</td>\n",
       "      <td>0.0</td>\n",
       "      <td>0.0</td>\n",
       "      <td>1.0</td>\n",
       "      <td>0.0</td>\n",
       "      <td>0.0</td>\n",
       "      <td>1.0</td>\n",
       "    </tr>\n",
       "    <tr>\n",
       "      <th>5670</th>\n",
       "      <td>-2.0</td>\n",
       "      <td>60</td>\n",
       "      <td>13.5</td>\n",
       "      <td>75.0</td>\n",
       "      <td>overcast</td>\n",
       "      <td>997.81</td>\n",
       "      <td>1</td>\n",
       "      <td>4.5</td>\n",
       "      <td>0.0</td>\n",
       "      <td>0.0</td>\n",
       "      <td>0.0</td>\n",
       "      <td>1.0</td>\n",
       "      <td>0.0</td>\n",
       "      <td>0.0</td>\n",
       "      <td>1.0</td>\n",
       "    </tr>\n",
       "    <tr>\n",
       "      <th>1113</th>\n",
       "      <td>1.0</td>\n",
       "      <td>95</td>\n",
       "      <td>4.0</td>\n",
       "      <td>97.0</td>\n",
       "      <td>overcast</td>\n",
       "      <td>987.61</td>\n",
       "      <td>0</td>\n",
       "      <td>3.0</td>\n",
       "      <td>0.0</td>\n",
       "      <td>0.0</td>\n",
       "      <td>0.0</td>\n",
       "      <td>1.0</td>\n",
       "      <td>0.0</td>\n",
       "      <td>1.0</td>\n",
       "      <td>0.0</td>\n",
       "    </tr>\n",
       "    <tr>\n",
       "      <th>2602</th>\n",
       "      <td>20.0</td>\n",
       "      <td>59</td>\n",
       "      <td>10.0</td>\n",
       "      <td>16.0</td>\n",
       "      <td>partly cloudy</td>\n",
       "      <td>1015.12</td>\n",
       "      <td>10</td>\n",
       "      <td>9.5</td>\n",
       "      <td>0.0</td>\n",
       "      <td>0.0</td>\n",
       "      <td>1.0</td>\n",
       "      <td>0.0</td>\n",
       "      <td>0.0</td>\n",
       "      <td>0.0</td>\n",
       "      <td>1.0</td>\n",
       "    </tr>\n",
       "    <tr>\n",
       "      <th>10526</th>\n",
       "      <td>29.0</td>\n",
       "      <td>32</td>\n",
       "      <td>3.0</td>\n",
       "      <td>15.0</td>\n",
       "      <td>clear</td>\n",
       "      <td>1012.12</td>\n",
       "      <td>11</td>\n",
       "      <td>6.0</td>\n",
       "      <td>0.0</td>\n",
       "      <td>1.0</td>\n",
       "      <td>0.0</td>\n",
       "      <td>0.0</td>\n",
       "      <td>1.0</td>\n",
       "      <td>0.0</td>\n",
       "      <td>0.0</td>\n",
       "    </tr>\n",
       "    <tr>\n",
       "      <th>...</th>\n",
       "      <td>...</td>\n",
       "      <td>...</td>\n",
       "      <td>...</td>\n",
       "      <td>...</td>\n",
       "      <td>...</td>\n",
       "      <td>...</td>\n",
       "      <td>...</td>\n",
       "      <td>...</td>\n",
       "      <td>...</td>\n",
       "      <td>...</td>\n",
       "      <td>...</td>\n",
       "      <td>...</td>\n",
       "      <td>...</td>\n",
       "      <td>...</td>\n",
       "      <td>...</td>\n",
       "    </tr>\n",
       "    <tr>\n",
       "      <th>7593</th>\n",
       "      <td>25.0</td>\n",
       "      <td>65</td>\n",
       "      <td>0.0</td>\n",
       "      <td>16.0</td>\n",
       "      <td>clear</td>\n",
       "      <td>1019.39</td>\n",
       "      <td>5</td>\n",
       "      <td>9.0</td>\n",
       "      <td>0.0</td>\n",
       "      <td>0.0</td>\n",
       "      <td>0.0</td>\n",
       "      <td>1.0</td>\n",
       "      <td>1.0</td>\n",
       "      <td>0.0</td>\n",
       "      <td>0.0</td>\n",
       "    </tr>\n",
       "    <tr>\n",
       "      <th>1996</th>\n",
       "      <td>12.0</td>\n",
       "      <td>89</td>\n",
       "      <td>6.5</td>\n",
       "      <td>86.0</td>\n",
       "      <td>overcast</td>\n",
       "      <td>992.27</td>\n",
       "      <td>2</td>\n",
       "      <td>1.5</td>\n",
       "      <td>0.0</td>\n",
       "      <td>0.0</td>\n",
       "      <td>1.0</td>\n",
       "      <td>0.0</td>\n",
       "      <td>1.0</td>\n",
       "      <td>0.0</td>\n",
       "      <td>0.0</td>\n",
       "    </tr>\n",
       "    <tr>\n",
       "      <th>9763</th>\n",
       "      <td>0.0</td>\n",
       "      <td>86</td>\n",
       "      <td>9.0</td>\n",
       "      <td>79.0</td>\n",
       "      <td>overcast</td>\n",
       "      <td>995.35</td>\n",
       "      <td>0</td>\n",
       "      <td>1.0</td>\n",
       "      <td>0.0</td>\n",
       "      <td>0.0</td>\n",
       "      <td>0.0</td>\n",
       "      <td>1.0</td>\n",
       "      <td>0.0</td>\n",
       "      <td>1.0</td>\n",
       "      <td>0.0</td>\n",
       "    </tr>\n",
       "    <tr>\n",
       "      <th>6507</th>\n",
       "      <td>41.0</td>\n",
       "      <td>41</td>\n",
       "      <td>4.5</td>\n",
       "      <td>10.0</td>\n",
       "      <td>clear</td>\n",
       "      <td>1013.37</td>\n",
       "      <td>6</td>\n",
       "      <td>9.0</td>\n",
       "      <td>0.0</td>\n",
       "      <td>0.0</td>\n",
       "      <td>0.0</td>\n",
       "      <td>1.0</td>\n",
       "      <td>1.0</td>\n",
       "      <td>0.0</td>\n",
       "      <td>0.0</td>\n",
       "    </tr>\n",
       "    <tr>\n",
       "      <th>11046</th>\n",
       "      <td>77.0</td>\n",
       "      <td>73</td>\n",
       "      <td>15.5</td>\n",
       "      <td>104.0</td>\n",
       "      <td>clear</td>\n",
       "      <td>1021.88</td>\n",
       "      <td>4</td>\n",
       "      <td>7.0</td>\n",
       "      <td>1.0</td>\n",
       "      <td>0.0</td>\n",
       "      <td>0.0</td>\n",
       "      <td>0.0</td>\n",
       "      <td>0.0</td>\n",
       "      <td>1.0</td>\n",
       "      <td>0.0</td>\n",
       "    </tr>\n",
       "  </tbody>\n",
       "</table>\n",
       "<p>10560 rows × 15 columns</p>\n",
       "</div>"
      ],
      "text/plain": [
       "       Temperature  Humidity  Wind_Speed  Precipitation    Cloud_Cover  \\\n",
       "13143         -7.0        70         1.5           72.0       overcast   \n",
       "5670          -2.0        60        13.5           75.0       overcast   \n",
       "1113           1.0        95         4.0           97.0       overcast   \n",
       "2602          20.0        59        10.0           16.0  partly cloudy   \n",
       "10526         29.0        32         3.0           15.0          clear   \n",
       "...            ...       ...         ...            ...            ...   \n",
       "7593          25.0        65         0.0           16.0          clear   \n",
       "1996          12.0        89         6.5           86.0       overcast   \n",
       "9763           0.0        86         9.0           79.0       overcast   \n",
       "6507          41.0        41         4.5           10.0          clear   \n",
       "11046         77.0        73        15.5          104.0          clear   \n",
       "\n",
       "       Atmospheric_Pressure  UV_Index  Visibility  Season_Autumn  \\\n",
       "13143                989.30         1         2.0            0.0   \n",
       "5670                 997.81         1         4.5            0.0   \n",
       "1113                 987.61         0         3.0            0.0   \n",
       "2602                1015.12        10         9.5            0.0   \n",
       "10526               1012.12        11         6.0            0.0   \n",
       "...                     ...       ...         ...            ...   \n",
       "7593                1019.39         5         9.0            0.0   \n",
       "1996                 992.27         2         1.5            0.0   \n",
       "9763                 995.35         0         1.0            0.0   \n",
       "6507                1013.37         6         9.0            0.0   \n",
       "11046               1021.88         4         7.0            1.0   \n",
       "\n",
       "       Season_Spring  Season_Summer  Season_Winter  Location_coastal  \\\n",
       "13143            0.0            0.0            1.0               0.0   \n",
       "5670             0.0            0.0            1.0               0.0   \n",
       "1113             0.0            0.0            1.0               0.0   \n",
       "2602             0.0            1.0            0.0               0.0   \n",
       "10526            1.0            0.0            0.0               1.0   \n",
       "...              ...            ...            ...               ...   \n",
       "7593             0.0            0.0            1.0               1.0   \n",
       "1996             0.0            1.0            0.0               1.0   \n",
       "9763             0.0            0.0            1.0               0.0   \n",
       "6507             0.0            0.0            1.0               1.0   \n",
       "11046            0.0            0.0            0.0               0.0   \n",
       "\n",
       "       Location_inland  Location_mountain  \n",
       "13143              0.0                1.0  \n",
       "5670               0.0                1.0  \n",
       "1113               1.0                0.0  \n",
       "2602               0.0                1.0  \n",
       "10526              0.0                0.0  \n",
       "...                ...                ...  \n",
       "7593               0.0                0.0  \n",
       "1996               0.0                0.0  \n",
       "9763               1.0                0.0  \n",
       "6507               0.0                0.0  \n",
       "11046              1.0                0.0  \n",
       "\n",
       "[10560 rows x 15 columns]"
      ]
     },
     "execution_count": 53,
     "metadata": {},
     "output_type": "execute_result"
    }
   ],
   "source": [
    "X_train"
   ]
  },
  {
   "cell_type": "code",
   "execution_count": 67,
   "metadata": {},
   "outputs": [],
   "source": [
    "from sklearn.ensemble import RandomForestClassifier\n",
    "\n",
    "train_attributes = X_train.columns\n",
    "\n",
    "rf_for_features = RandomForestClassifier(n_estimators=100)\n",
    "rf_for_features.fit(X_train, y_train)\n",
    "\n",
    "importances = rf_for_features.feature_importances_\n",
    "importances_dict = {feature: score for feature, score in zip(train_attributes, importances)}\n"
   ]
  },
  {
   "cell_type": "code",
   "execution_count": 68,
   "metadata": {},
   "outputs": [
    {
     "name": "stdout",
     "output_type": "stream",
     "text": [
      "Temperature: 0.20339869058336912\n",
      "Visibility: 0.1491530735006459\n",
      "Precipitation: 0.13681133200177278\n",
      "UV_Index: 0.12800234425140017\n",
      "Atmospheric_Pressure: 0.12662632899897291\n",
      "Cloud_Cover: 0.08533139520752475\n",
      "Humidity: 0.06057728343120094\n",
      "Wind_Speed: 0.04023164058508057\n",
      "Season_Winter: 0.037416886541205306\n",
      "Location_coastal: 0.011495844636029167\n",
      "Season_Summer: 0.00499777066182871\n",
      "Season_Spring: 0.0048725923763579815\n",
      "Season_Autumn: 0.004837538450466666\n",
      "Location_inland: 0.003353369737988751\n",
      "Location_mountain: 0.002893909036156521\n"
     ]
    }
   ],
   "source": [
    "sorted_importances = sorted(importances_dict.items(), key=lambda item: item[1], reverse=True)\n",
    "\n",
    "for feature, importance in sorted_importances:\n",
    "    print(f\"{feature}: {importance}\")"
   ]
  },
  {
   "cell_type": "code",
   "execution_count": 72,
   "metadata": {},
   "outputs": [
    {
     "data": {
      "text/plain": [
       "['Location_coastal',\n",
       " 'Season_Summer',\n",
       " 'Season_Spring',\n",
       " 'Season_Autumn',\n",
       " 'Location_inland',\n",
       " 'Location_mountain']"
      ]
     },
     "execution_count": 72,
     "metadata": {},
     "output_type": "execute_result"
    }
   ],
   "source": [
    "low_importance_features = [item[0] for item in sorted_importances if item[1]<0.03]\n",
    "low_importance_features"
   ]
  },
  {
   "cell_type": "code",
   "execution_count": 5,
   "metadata": {},
   "outputs": [],
   "source": [
    "from sklearn.preprocessing import StandardScaler, LabelEncoder, OneHotEncoder\n",
    "\n",
    "numeric_cols = X_train.select_dtypes(include=['number']).columns\n",
    "categorical_cols = list(set(X_train.columns) - set(numeric_cols))\n",
    "\n",
    "sc = StandardScaler()\n",
    "X_train[numeric_cols] = sc.fit_transform(X_train[numeric_cols])"
   ]
  },
  {
   "cell_type": "code",
   "execution_count": 6,
   "metadata": {},
   "outputs": [],
   "source": [
    "X_test[numeric_cols] = sc.transform(X_test[numeric_cols])"
   ]
  },
  {
   "cell_type": "code",
   "execution_count": 55,
   "metadata": {},
   "outputs": [],
   "source": [
    "cloud_cover_mapping = {\n",
    "    'clear': 0,\n",
    "    'partly cloudy': 1,\n",
    "    'overcast': 2,\n",
    "    'cloudy': 3\n",
    "}\n",
    "\n",
    "X_train['Cloud_Cover'] = X_train['Cloud_Cover'].map(cloud_cover_mapping)\n",
    "X_test['Cloud_Cover'] = X_test['Cloud_Cover'].map(cloud_cover_mapping)"
   ]
  },
  {
   "cell_type": "code",
   "execution_count": 8,
   "metadata": {},
   "outputs": [],
   "source": [
    "categorical_cols.remove('Cloud_Cover')"
   ]
  },
  {
   "cell_type": "code",
   "execution_count": 48,
   "metadata": {},
   "outputs": [],
   "source": [
    "oh_encoder = OneHotEncoder(handle_unknown='ignore', sparse_output=False)\n",
    "\n",
    "train_encoded = oh_encoder.fit_transform(X_train[categorical_cols])\n",
    "test_encoded = oh_encoder.transform(X_test[categorical_cols])"
   ]
  },
  {
   "cell_type": "code",
   "execution_count": 49,
   "metadata": {},
   "outputs": [],
   "source": [
    "train_cat_encoded_df = pd.DataFrame(train_encoded, columns=oh_encoder.get_feature_names_out(categorical_cols))\n",
    "test_cat_encoded_df = pd.DataFrame(test_encoded, columns=oh_encoder.get_feature_names_out(categorical_cols))"
   ]
  },
  {
   "cell_type": "code",
   "execution_count": 50,
   "metadata": {},
   "outputs": [],
   "source": [
    "X_train.drop(columns=categorical_cols, inplace=True)"
   ]
  },
  {
   "cell_type": "code",
   "execution_count": 35,
   "metadata": {},
   "outputs": [],
   "source": [
    "X_test.drop(columns=categorical_cols, inplace=True)"
   ]
  },
  {
   "cell_type": "code",
   "execution_count": 51,
   "metadata": {},
   "outputs": [],
   "source": [
    "train_cat_encoded_df.index = X_train.index\n",
    "test_cat_encoded_df.index = X_test.index"
   ]
  },
  {
   "cell_type": "code",
   "execution_count": 52,
   "metadata": {},
   "outputs": [],
   "source": [
    "X_train = pd.concat([X_train, train_cat_encoded_df], axis=1)\n",
    "X_test = pd.concat([X_test, test_cat_encoded_df], axis=1)"
   ]
  },
  {
   "cell_type": "code",
   "execution_count": 14,
   "metadata": {},
   "outputs": [],
   "source": [
    "X_train['Cloud_Cover'] = sc.fit_transform(X_train['Cloud_Cover'].values.reshape(-1, 1))\n",
    "X_test['Cloud_Cover'] = sc.transform(X_test['Cloud_Cover'].values.reshape(-1, 1))\n"
   ]
  },
  {
   "cell_type": "code",
   "execution_count": 34,
   "metadata": {},
   "outputs": [
    {
     "data": {
      "text/plain": [
       "{'Location', 'Season'}"
      ]
     },
     "execution_count": 34,
     "metadata": {},
     "output_type": "execute_result"
    }
   ],
   "source": [
    "set(X_test.columns) - set(X_train.columns)"
   ]
  },
  {
   "cell_type": "code",
   "execution_count": 16,
   "metadata": {},
   "outputs": [],
   "source": [
    "from sklearn.model_selection import GridSearchCV\n",
    "from sklearn.svm import SVC"
   ]
  },
  {
   "cell_type": "code",
   "execution_count": 28,
   "metadata": {},
   "outputs": [],
   "source": [
    "param_range = [10**i for i in range(-4, 2)]\n",
    "param_grid = [\n",
    "    {\n",
    "        'C': param_range,\n",
    "        'degree': [3, 4, 5, 6],\n",
    "        'kernel': ['poly']\n",
    "    },\n",
    "    {\n",
    "        'C': param_range,\n",
    "        'gamma': param_range,\n",
    "        'kernel': ['rbf']\n",
    "    }\n",
    "]"
   ]
  },
  {
   "cell_type": "code",
   "execution_count": 29,
   "metadata": {},
   "outputs": [],
   "source": [
    "gs = GridSearchCV(\n",
    "    estimator=SVC(),\n",
    "    param_grid=param_grid,\n",
    "    scoring = 'f1_micro',\n",
    "    cv=5,\n",
    "    refit=True,\n",
    "    n_jobs=-1\n",
    ")"
   ]
  },
  {
   "cell_type": "code",
   "execution_count": 30,
   "metadata": {},
   "outputs": [],
   "source": [
    "gs = gs.fit(X_train, y_train)"
   ]
  },
  {
   "cell_type": "code",
   "execution_count": 31,
   "metadata": {},
   "outputs": [
    {
     "name": "stdout",
     "output_type": "stream",
     "text": [
      "0.9119318181818181\n",
      "SVC(C=10, gamma=0.1)\n",
      "{'C': 10, 'gamma': 0.1, 'kernel': 'rbf'}\n"
     ]
    }
   ],
   "source": [
    "print(gs.best_score_)\n",
    "print(gs.best_estimator_)\n",
    "print(gs.best_params_)"
   ]
  },
  {
   "cell_type": "code",
   "execution_count": 40,
   "metadata": {},
   "outputs": [],
   "source": [
    "preds = gs.predict(X_test)"
   ]
  },
  {
   "cell_type": "code",
   "execution_count": 73,
   "metadata": {},
   "outputs": [
    {
     "name": "stdout",
     "output_type": "stream",
     "text": [
      "accuracy value: 0.9094696969696969\n",
      "precision value: 0.910499075916531\n",
      "recall value: 0.9094696969696969\n",
      "f1 value: 0.909722244930058\n"
     ]
    }
   ],
   "source": [
    "from sklearn.metrics import f1_score, recall_score, precision_score, accuracy_score\n",
    "\n",
    "\n",
    "print(f\"accuracy value: {accuracy_score(y_test, preds)}\")\n",
    "print(f\"precision value: {precision_score(y_test, preds, average='macro')}\")\n",
    "print(f\"recall value: {recall_score(y_test, preds, average='macro')}\")\n",
    "print(f\"f1 value: {f1_score(y_test, preds, average='macro')}\")\n"
   ]
  },
  {
   "cell_type": "code",
   "execution_count": null,
   "metadata": {},
   "outputs": [],
   "source": []
  }
 ],
 "metadata": {
  "kernelspec": {
   "display_name": "ml-learning",
   "language": "python",
   "name": "python3"
  },
  "language_info": {
   "codemirror_mode": {
    "name": "ipython",
    "version": 3
   },
   "file_extension": ".py",
   "mimetype": "text/x-python",
   "name": "python",
   "nbconvert_exporter": "python",
   "pygments_lexer": "ipython3",
   "version": "3.9.18"
  }
 },
 "nbformat": 4,
 "nbformat_minor": 2
}
